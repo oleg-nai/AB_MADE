{
 "cells": [
  {
   "attachments": {},
   "cell_type": "markdown",
   "id": "76a383c2",
   "metadata": {},
   "source": [
    "# HW - 4\n",
    "    author: Найдович Олег"
   ]
  },
  {
   "attachments": {},
   "cell_type": "markdown",
   "id": "cf219ba5",
   "metadata": {},
   "source": [
    "# Load, preprocess data"
   ]
  },
  {
   "cell_type": "code",
   "execution_count": 42,
   "id": "1e68c527-4432-4629-9c03-0a4d1f9896da",
   "metadata": {},
   "outputs": [],
   "source": [
    "import numpy as np\n",
    "import pandas as pd\n",
    "from datetime import date, timedelta\n",
    "import scipy.stats as stats\n",
    "\n",
    "import matplotlib.pyplot as plt\n",
    "import plotly.graph_objs as go"
   ]
  },
  {
   "cell_type": "code",
   "execution_count": 43,
   "id": "3541e46d",
   "metadata": {},
   "outputs": [],
   "source": [
    "def preprocess_data(df):\n",
    "    df['timestamp'] = pd.to_datetime(df['timestamp'], unit='s') + timedelta(hours=3)\n",
    "    df['date'] = pd.to_datetime(df['date'], format='%Y-%m-%d')\n",
    "\n",
    "    pre_group = df[df['group'].isna()]\n",
    "    alpha_group = df[df['group'] == 'A']\n",
    "    beta_group = df[df['group'] == 'B']\n",
    "\n",
    "    return pre_group, alpha_group, beta_group"
   ]
  },
  {
   "cell_type": "code",
   "execution_count": 44,
   "id": "7835e729",
   "metadata": {},
   "outputs": [],
   "source": [
    "df = pd.read_csv(\"data.gzip\", compression='gzip')\n",
    "pre_group, alpha_group, beta_group = preprocess_data(df)"
   ]
  },
  {
   "attachments": {},
   "cell_type": "markdown",
   "id": "55bb2904",
   "metadata": {},
   "source": [
    "# Analytics"
   ]
  },
  {
   "cell_type": "code",
   "execution_count": 45,
   "id": "9611f91d",
   "metadata": {},
   "outputs": [
    {
     "name": "stdout",
     "output_type": "stream",
     "text": [
      "pre_group['date'].min()=Timestamp('2023-04-01 00:00:00'),   pre_group['date'].max()=Timestamp('2023-04-30 00:00:00')\n",
      "alpha_group['date'].min()=Timestamp('2023-05-01 00:00:00'), alpha_group['date'].max()=Timestamp('2023-05-31 00:00:00')\n",
      "beta_group['date'].min()=Timestamp('2023-05-01 00:00:00'), beta_group['date'].max()=Timestamp('2023-05-31 00:00:00')\n"
     ]
    }
   ],
   "source": [
    "print(f\"{pre_group['date'].min()=},   {pre_group['date'].max()=}\")\n",
    "print(f\"{alpha_group['date'].min()=}, {alpha_group['date'].max()=}\")\n",
    "print(f\"{beta_group['date'].min()=}, {beta_group['date'].max()=}\")"
   ]
  },
  {
   "cell_type": "code",
   "execution_count": 46,
   "id": "68a1bbc0",
   "metadata": {},
   "outputs": [
    {
     "name": "stdout",
     "output_type": "stream",
     "text": [
      "pre_group['id_user'].nunique()=10000\n",
      "alpha_group['id_user'].nunique()=6000\n",
      "beta_group['id_user'].nunique()=6000\n"
     ]
    }
   ],
   "source": [
    "print(f\"{pre_group['id_user'].nunique()=}\")\n",
    "print(f\"{alpha_group['id_user'].nunique()=}\")\n",
    "print(f\"{beta_group['id_user'].nunique()=}\")"
   ]
  },
  {
   "cell_type": "code",
   "execution_count": 47,
   "id": "43711488",
   "metadata": {},
   "outputs": [
    {
     "name": "stdout",
     "output_type": "stream",
     "text": [
      "pre_group['id_user'].count()=25759\n",
      "alpha_group['id_user'].count()=15389\n",
      "beta_group['id_user'].count()=15257\n"
     ]
    }
   ],
   "source": [
    "print(f\"{pre_group['id_user'].count()=}\")\n",
    "print(f\"{alpha_group['id_user'].count()=}\")\n",
    "print(f\"{beta_group['id_user'].count()=}\")"
   ]
  },
  {
   "attachments": {},
   "cell_type": "markdown",
   "id": "f1cb0fdd",
   "metadata": {},
   "source": [
    "## Outliers detection"
   ]
  },
  {
   "attachments": {},
   "cell_type": "markdown",
   "id": "97b9ed9a",
   "metadata": {},
   "source": [
    "### Preprocessing"
   ]
  },
  {
   "cell_type": "code",
   "execution_count": 48,
   "id": "d46c4e82",
   "metadata": {},
   "outputs": [],
   "source": [
    "threshold = 0.02\n",
    "\n",
    "ALPHA = 0.05\n",
    "BETA = 0.2\n",
    "\n",
    "PRE_END = pd.to_datetime('2023-04-30', format='%Y-%m-%d')\n",
    "EXP_START = pd.to_datetime('2023-05-01', format='%Y-%m-%d')\n",
    "EXP_END = pd.to_datetime('2023-05-31', format='%Y-%m-%d')"
   ]
  },
  {
   "attachments": {},
   "cell_type": "markdown",
   "id": "4233d480",
   "metadata": {},
   "source": [
    "#### outliers detection for pre_group:"
   ]
  },
  {
   "cell_type": "code",
   "execution_count": 49,
   "id": "9667d0d9",
   "metadata": {},
   "outputs": [],
   "source": [
    "lower_bound = pre_group.sum_payment.quantile(q=threshold)\n",
    "upper_bound = pre_group.sum_payment.quantile(q=1-threshold)\n",
    "emission_df = pre_group[(pre_group.sum_payment < lower_bound) | (pre_group.sum_payment > upper_bound)]"
   ]
  },
  {
   "cell_type": "code",
   "execution_count": 50,
   "id": "e3f74d83",
   "metadata": {},
   "outputs": [
    {
     "data": {
      "image/png": "[encoded data removed]",
      "text/plain": [
       "<Figure size 640x480 with 1 Axes>"
      ]
     },
     "metadata": {},
     "output_type": "display_data"
    }
   ],
   "source": [
    "pre_group.loc[\n",
    "    pre_group.index.isin(emission_df.index), \"sum_payment\"\n",
    "] = pre_group.loc[pre_group.index.isin(emission_df.index), \"sum_payment\"].apply(lambda x: min(x, upper_bound))\n",
    "\n",
    "\n",
    "_, bp = pre_group.sum_payment.plot.box(return_type='both')"
   ]
  },
  {
   "attachments": {},
   "cell_type": "markdown",
   "id": "0bf01991",
   "metadata": {},
   "source": [
    "#### Cacl the duration"
   ]
  },
  {
   "cell_type": "code",
   "execution_count": 62,
   "id": "a7ff0a0b",
   "metadata": {},
   "outputs": [],
   "source": [
    "def calculate_sample_size(num_groups, effect_size, std_dev_1, std_dev_2, alpha=ALPHA, beta=BETA):\n",
    "    z_value = stats.norm.ppf(1 - alpha/2) + stats.norm.ppf(1 - beta)\n",
    "    sample_size = (num_groups + 1) * z_value ** 2 * (std_dev_1 ** 2 + std_dev_2 ** 2 / num_groups) / (effect_size ** 2)\n",
    "    return sample_size\n",
    "\n",
    "\n",
    "def calculate_total_payments(data_frame, ending_date, is_experimental=False):\n",
    "    filtered_data = data_frame.groupby('id_user').timestamp.min().reset_index(name='min_timestamp')\n",
    "    filtered_data['max_timestamp'] = filtered_data['min_timestamp'] + timedelta(seconds=7 * 24 * 60 * 60)\n",
    "    merged_data = data_frame.merge(filtered_data, on='id_user')\n",
    "    filtered_data = merged_data[(merged_data['timestamp'] <= merged_data['max_timestamp']) & (merged_data['timestamp'] >= merged_data['min_timestamp'])]\n",
    "    filtered_data = filtered_data[pd.to_datetime(filtered_data['max_timestamp']).dt.normalize() <= ending_date]\n",
    "    \n",
    "    total_payments = filtered_data.groupby('id_user').sum_payment.sum().tolist()\n",
    "    return total_payments\n"
   ]
  },
  {
   "cell_type": "code",
   "execution_count": 65,
   "id": "d9bd0424",
   "metadata": {},
   "outputs": [],
   "source": [
    "total_payments = calculate_total_payments(pre_group, ending_date=PRE_END)\n",
    "sigma_1 = sigma_2 = np.std(total_payments)\n",
    "\n",
    "mean_base = np.mean(total_payments)\n",
    "effect = 0.1 * mean_base\n",
    "\n",
    "k = a_group_df['id_user'].nunique() / b_group_df['id_user'].nunique()"
   ]
  },
  {
   "cell_type": "code",
   "execution_count": 66,
   "id": "5751be88",
   "metadata": {},
   "outputs": [],
   "source": [
    "target_n = int(calculate_sample_size(k, effect, sigma_1, sigma_2, alpha=0.05, beta=0.2)/2)"
   ]
  },
  {
   "cell_type": "code",
   "execution_count": 68,
   "id": "bead741a",
   "metadata": {},
   "outputs": [
    {
     "name": "stdout",
     "output_type": "stream",
     "text": [
      "3570\n"
     ]
    }
   ],
   "source": [
    "print(target_n) # nice!!!"
   ]
  },
  {
   "attachments": {},
   "cell_type": "markdown",
   "id": "3dce644d",
   "metadata": {},
   "source": [
    "#### data filtering:"
   ]
  },
  {
   "cell_type": "code",
   "execution_count": 75,
   "id": "754e3acd",
   "metadata": {},
   "outputs": [],
   "source": [
    "def find_filtering_date(data_frame, target_count):\n",
    "    start_date = EXP_START + timedelta(days=7)\n",
    "    \n",
    "    while start_date != EXP_END:\n",
    "        temp_df = data_frame[data_frame['date'] <= start_date]\n",
    "        filtered_data = temp_df.groupby('id_user').timestamp.min().reset_index(name='min_timestamp')\n",
    "        filtered_data['max_timestamp'] = filtered_data['min_timestamp'] + timedelta(seconds=7 * 24 * 60 * 60)\n",
    "        filtered_data = filtered_data[pd.to_datetime(filtered_data['max_timestamp']).dt.normalize() <= start_date]\n",
    "        \n",
    "        if filtered_data['id_user'].nunique() >= target_count:\n",
    "            return start_date\n",
    "        \n",
    "        start_date = start_date + timedelta(days=1)\n",
    "    \n",
    "    return start_date"
   ]
  },
  {
   "cell_type": "code",
   "execution_count": 84,
   "id": "42396b89",
   "metadata": {},
   "outputs": [],
   "source": [
    "a_date = find_filtering_date(alpha_group, target_n)\n",
    "b_date = find_filtering_date(beta_group, target_n)\n",
    "\n",
    "if a_date == b_date:\n",
    "    EXP_END = a_date\n",
    "else:\n",
    "    EXP_END = max(a_date, b_date)"
   ]
  },
  {
   "cell_type": "code",
   "execution_count": 87,
   "id": "e98052cf",
   "metadata": {},
   "outputs": [],
   "source": [
    "alpha_group =  alpha_group[alpha_group['date'] <= EXP_END]\n",
    "beta_group =  beta_group[beta_group['date'] <= EXP_END]"
   ]
  },
  {
   "attachments": {},
   "cell_type": "markdown",
   "id": "b5700542",
   "metadata": {},
   "source": [
    "### Outliters detection"
   ]
  },
  {
   "attachments": {},
   "cell_type": "markdown",
   "id": "b8ddc05d",
   "metadata": {},
   "source": [
    "#### Alpha-group:"
   ]
  },
  {
   "cell_type": "code",
   "execution_count": 88,
   "id": "b4919a9f",
   "metadata": {},
   "outputs": [],
   "source": [
    "lower_bound = alpha_group.sum_payment.quantile(q=threshold)\n",
    "upper_bound = alpha_group.sum_payment.quantile(q=1-threshold)\n",
    "emission_df = alpha_group[\n",
    "    (alpha_group.sum_payment < lower_bound) | (alpha_group.sum_payment > upper_bound)\n",
    "]"
   ]
  },
  {
   "cell_type": "code",
   "execution_count": 91,
   "id": "49451aa8",
   "metadata": {},
   "outputs": [],
   "source": [
    "alpha_group.loc[\n",
    "    alpha_group.index.isin(emission_df.index), \"sum_payment\"\n",
    "] = alpha_group.loc[alpha_group.index.isin(emission_df.index), \"sum_payment\"].apply(\n",
    "    lambda x: min(x, upper_bound)\n",
    ")"
   ]
  },
  {
   "cell_type": "code",
   "execution_count": 92,
   "id": "b0224de6",
   "metadata": {},
   "outputs": [
    {
     "data": {
      "image/png": "[encoded data removed]",
      "text/plain": [
       "<Figure size 640x480 with 1 Axes>"
      ]
     },
     "metadata": {},
     "output_type": "display_data"
    }
   ],
   "source": [
    "_, bp = alpha_group.sum_payment.plot.box(return_type='both')"
   ]
  },
  {
   "attachments": {},
   "cell_type": "markdown",
   "id": "a933f91f",
   "metadata": {},
   "source": [
    "#### Beta-group:"
   ]
  },
  {
   "cell_type": "code",
   "execution_count": 96,
   "id": "6fca5a0b",
   "metadata": {},
   "outputs": [],
   "source": [
    "# сначала посмотрим на выбросы, которые кажутся прямо таки аномальными\n",
    "lower_bound = beta_group.sum_payment.quantile(q=threshold)\n",
    "upper_bound = beta_group.sum_payment.quantile(q=1-threshold)\n",
    "emission_df = beta_group[\n",
    "    (beta_group.sum_payment < lower_bound) | (beta_group.sum_payment > upper_bound)\n",
    "]"
   ]
  },
  {
   "cell_type": "code",
   "execution_count": 97,
   "id": "971abce1",
   "metadata": {},
   "outputs": [],
   "source": [
    "beta_group.loc[\n",
    "    beta_group.index.isin(emission_df.index), \"sum_payment\"\n",
    "] = beta_group.loc[beta_group.index.isin(emission_df.index), \"sum_payment\"].apply(\n",
    "    lambda x: min(x, upper_bound)\n",
    ")"
   ]
  },
  {
   "cell_type": "code",
   "execution_count": 98,
   "id": "214a798e",
   "metadata": {},
   "outputs": [
    {
     "data": {
      "image/png": "[encoded data removed]",
      "text/plain": [
       "<Figure size 640x480 with 1 Axes>"
      ]
     },
     "metadata": {},
     "output_type": "display_data"
    }
   ],
   "source": [
    "_, bp = beta_group.sum_payment.plot.box(return_type='both')"
   ]
  },
  {
   "attachments": {},
   "cell_type": "markdown",
   "id": "a388c201",
   "metadata": {},
   "source": [
    "### Анализ эксперимента:"
   ]
  },
  {
   "cell_type": "code",
   "execution_count": 99,
   "id": "e1a87a41",
   "metadata": {},
   "outputs": [],
   "source": [
    "def calculate_dynamic_metric(alpha_group, beta_group):\n",
    "    result_df = pd.DataFrame(columns=[\"metric_a\", \"metric_b\", \"effect\", \"t\", \"p_value\"], index=pd.date_range(EXP_START + timedelta(days=7), EXP_END))\n",
    "    \n",
    "    for date in result_df.index:\n",
    "        tmp_a = metric(alpha_group[alpha_group[\"date\"] <= date], ending=date, exp=True)\n",
    "        tmp_b = metric(beta_group[beta_group[\"date\"] <= date], ending=date, exp=True)\n",
    "        effect = np.mean(tmp_b) - np.mean(tmp_a)\n",
    "        results = stats.ttest_ind(tmp_a, tmp_b, equal_var=abs(np.var(tmp_b) - np.var(tmp_a)) <= 0.1)\n",
    "        t_value, p_value = results.statistic, results.pvalue\n",
    "        result_df.loc[date] = np.mean(tmp_a), np.mean(tmp_b), effect, t_value, p_value\n",
    "    \n",
    "    return result_df\n"
   ]
  },
  {
   "cell_type": "code",
   "execution_count": 103,
   "id": "acd5f42a",
   "metadata": {},
   "outputs": [],
   "source": [
    "res = calculate_dynamic_metric(alpha_group, beta_group)"
   ]
  },
  {
   "attachments": {},
   "cell_type": "markdown",
   "id": "7787bf5f",
   "metadata": {},
   "source": [
    "### Посмотрим на финальные результаты:"
   ]
  },
  {
   "cell_type": "code",
   "execution_count": 109,
   "id": "970fc8ea",
   "metadata": {},
   "outputs": [
    {
     "data": {
      "text/html": [
       "<div>\n",
       "<style scoped>\n",
       "    .dataframe tbody tr th:only-of-type {\n",
       "        vertical-align: middle;\n",
       "    }\n",
       "\n",
       "    .dataframe tbody tr th {\n",
       "        vertical-align: top;\n",
       "    }\n",
       "\n",
       "    .dataframe thead th {\n",
       "        text-align: right;\n",
       "    }\n",
       "</style>\n",
       "<table border=\"1\" class=\"dataframe\">\n",
       "  <thead>\n",
       "    <tr style=\"text-align: right;\">\n",
       "      <th></th>\n",
       "      <th>metric_a</th>\n",
       "      <th>metric_b</th>\n",
       "      <th>effect</th>\n",
       "      <th>t</th>\n",
       "      <th>p_value</th>\n",
       "    </tr>\n",
       "  </thead>\n",
       "  <tbody>\n",
       "    <tr>\n",
       "      <th>2023-05-08</th>\n",
       "      <td>11.5</td>\n",
       "      <td>3.333333</td>\n",
       "      <td>-8.166667</td>\n",
       "      <td>1.339292</td>\n",
       "      <td>0.206675</td>\n",
       "    </tr>\n",
       "    <tr>\n",
       "      <th>2023-05-09</th>\n",
       "      <td>12.586207</td>\n",
       "      <td>9.967742</td>\n",
       "      <td>-2.618465</td>\n",
       "      <td>0.650576</td>\n",
       "      <td>0.518016</td>\n",
       "    </tr>\n",
       "    <tr>\n",
       "      <th>2023-05-10</th>\n",
       "      <td>12.714286</td>\n",
       "      <td>10.59375</td>\n",
       "      <td>-2.120536</td>\n",
       "      <td>0.721572</td>\n",
       "      <td>0.471923</td>\n",
       "    </tr>\n",
       "    <tr>\n",
       "      <th>2023-05-11</th>\n",
       "      <td>11.788991</td>\n",
       "      <td>11.673077</td>\n",
       "      <td>-0.115914</td>\n",
       "      <td>0.050391</td>\n",
       "      <td>0.959862</td>\n",
       "    </tr>\n",
       "    <tr>\n",
       "      <th>2023-05-12</th>\n",
       "      <td>11.186747</td>\n",
       "      <td>12.709302</td>\n",
       "      <td>1.522555</td>\n",
       "      <td>-0.801269</td>\n",
       "      <td>0.423587</td>\n",
       "    </tr>\n",
       "    <tr>\n",
       "      <th>2023-05-13</th>\n",
       "      <td>9.91129</td>\n",
       "      <td>12.94</td>\n",
       "      <td>3.02871</td>\n",
       "      <td>-2.018334</td>\n",
       "      <td>0.044151</td>\n",
       "    </tr>\n",
       "    <tr>\n",
       "      <th>2023-05-14</th>\n",
       "      <td>10.171171</td>\n",
       "      <td>11.951952</td>\n",
       "      <td>1.780781</td>\n",
       "      <td>-1.419242</td>\n",
       "      <td>0.156328</td>\n",
       "    </tr>\n",
       "    <tr>\n",
       "      <th>2023-05-15</th>\n",
       "      <td>9.904018</td>\n",
       "      <td>11.624714</td>\n",
       "      <td>1.720696</td>\n",
       "      <td>-1.60567</td>\n",
       "      <td>0.108721</td>\n",
       "    </tr>\n",
       "    <tr>\n",
       "      <th>2023-05-16</th>\n",
       "      <td>10.019749</td>\n",
       "      <td>11.329044</td>\n",
       "      <td>1.309295</td>\n",
       "      <td>-1.386518</td>\n",
       "      <td>0.165883</td>\n",
       "    </tr>\n",
       "    <tr>\n",
       "      <th>2023-05-17</th>\n",
       "      <td>9.94387</td>\n",
       "      <td>11.203927</td>\n",
       "      <td>1.260057</td>\n",
       "      <td>-1.479031</td>\n",
       "      <td>0.139376</td>\n",
       "    </tr>\n",
       "    <tr>\n",
       "      <th>2023-05-18</th>\n",
       "      <td>9.964461</td>\n",
       "      <td>11.352792</td>\n",
       "      <td>1.388331</td>\n",
       "      <td>-1.775169</td>\n",
       "      <td>0.076066</td>\n",
       "    </tr>\n",
       "    <tr>\n",
       "      <th>2023-05-19</th>\n",
       "      <td>10.141509</td>\n",
       "      <td>11.355049</td>\n",
       "      <td>1.213539</td>\n",
       "      <td>-1.659812</td>\n",
       "      <td>0.097124</td>\n",
       "    </tr>\n",
       "    <tr>\n",
       "      <th>2023-05-20</th>\n",
       "      <td>10.118505</td>\n",
       "      <td>11.295308</td>\n",
       "      <td>1.176803</td>\n",
       "      <td>-1.732791</td>\n",
       "      <td>0.083276</td>\n",
       "    </tr>\n",
       "    <tr>\n",
       "      <th>2023-05-21</th>\n",
       "      <td>10.139905</td>\n",
       "      <td>10.992724</td>\n",
       "      <td>0.85282</td>\n",
       "      <td>-1.348595</td>\n",
       "      <td>0.177591</td>\n",
       "    </tr>\n",
       "    <tr>\n",
       "      <th>2023-05-22</th>\n",
       "      <td>10.124736</td>\n",
       "      <td>11.18529</td>\n",
       "      <td>1.060554</td>\n",
       "      <td>-1.781266</td>\n",
       "      <td>0.074977</td>\n",
       "    </tr>\n",
       "    <tr>\n",
       "      <th>2023-05-23</th>\n",
       "      <td>10.143862</td>\n",
       "      <td>11.19084</td>\n",
       "      <td>1.046978</td>\n",
       "      <td>-1.86112</td>\n",
       "      <td>0.062822</td>\n",
       "    </tr>\n",
       "    <tr>\n",
       "      <th>2023-05-24</th>\n",
       "      <td>10.126274</td>\n",
       "      <td>11.338076</td>\n",
       "      <td>1.211802</td>\n",
       "      <td>-2.281612</td>\n",
       "      <td>0.022572</td>\n",
       "    </tr>\n",
       "    <tr>\n",
       "      <th>2023-05-25</th>\n",
       "      <td>10.272217</td>\n",
       "      <td>11.411554</td>\n",
       "      <td>1.139338</td>\n",
       "      <td>-2.246536</td>\n",
       "      <td>0.024726</td>\n",
       "    </tr>\n",
       "    <tr>\n",
       "      <th>2023-05-26</th>\n",
       "      <td>10.558837</td>\n",
       "      <td>11.675613</td>\n",
       "      <td>1.116776</td>\n",
       "      <td>-2.275701</td>\n",
       "      <td>0.022913</td>\n",
       "    </tr>\n",
       "    <tr>\n",
       "      <th>2023-05-27</th>\n",
       "      <td>10.621577</td>\n",
       "      <td>11.868666</td>\n",
       "      <td>1.247089</td>\n",
       "      <td>-2.651441</td>\n",
       "      <td>0.008042</td>\n",
       "    </tr>\n",
       "    <tr>\n",
       "      <th>2023-05-28</th>\n",
       "      <td>10.599548</td>\n",
       "      <td>12.096713</td>\n",
       "      <td>1.497165</td>\n",
       "      <td>-3.335084</td>\n",
       "      <td>0.000859</td>\n",
       "    </tr>\n",
       "    <tr>\n",
       "      <th>2023-05-29</th>\n",
       "      <td>10.765862</td>\n",
       "      <td>12.314217</td>\n",
       "      <td>1.548355</td>\n",
       "      <td>-3.555484</td>\n",
       "      <td>0.00038</td>\n",
       "    </tr>\n",
       "    <tr>\n",
       "      <th>2023-05-30</th>\n",
       "      <td>11.027027</td>\n",
       "      <td>12.411076</td>\n",
       "      <td>1.384049</td>\n",
       "      <td>-3.266765</td>\n",
       "      <td>0.001094</td>\n",
       "    </tr>\n",
       "    <tr>\n",
       "      <th>2023-05-31</th>\n",
       "      <td>11.281241</td>\n",
       "      <td>12.69074</td>\n",
       "      <td>1.409499</td>\n",
       "      <td>-3.368989</td>\n",
       "      <td>0.000759</td>\n",
       "    </tr>\n",
       "  </tbody>\n",
       "</table>\n",
       "</div>"
      ],
      "text/plain": [
       "             metric_a   metric_b    effect         t   p_value\n",
       "2023-05-08       11.5   3.333333 -8.166667  1.339292  0.206675\n",
       "2023-05-09  12.586207   9.967742 -2.618465  0.650576  0.518016\n",
       "2023-05-10  12.714286   10.59375 -2.120536  0.721572  0.471923\n",
       "2023-05-11  11.788991  11.673077 -0.115914  0.050391  0.959862\n",
       "2023-05-12  11.186747  12.709302  1.522555 -0.801269  0.423587\n",
       "2023-05-13    9.91129      12.94   3.02871 -2.018334  0.044151\n",
       "2023-05-14  10.171171  11.951952  1.780781 -1.419242  0.156328\n",
       "2023-05-15   9.904018  11.624714  1.720696  -1.60567  0.108721\n",
       "2023-05-16  10.019749  11.329044  1.309295 -1.386518  0.165883\n",
       "2023-05-17    9.94387  11.203927  1.260057 -1.479031  0.139376\n",
       "2023-05-18   9.964461  11.352792  1.388331 -1.775169  0.076066\n",
       "2023-05-19  10.141509  11.355049  1.213539 -1.659812  0.097124\n",
       "2023-05-20  10.118505  11.295308  1.176803 -1.732791  0.083276\n",
       "2023-05-21  10.139905  10.992724   0.85282 -1.348595  0.177591\n",
       "2023-05-22  10.124736   11.18529  1.060554 -1.781266  0.074977\n",
       "2023-05-23  10.143862   11.19084  1.046978  -1.86112  0.062822\n",
       "2023-05-24  10.126274  11.338076  1.211802 -2.281612  0.022572\n",
       "2023-05-25  10.272217  11.411554  1.139338 -2.246536  0.024726\n",
       "2023-05-26  10.558837  11.675613  1.116776 -2.275701  0.022913\n",
       "2023-05-27  10.621577  11.868666  1.247089 -2.651441  0.008042\n",
       "2023-05-28  10.599548  12.096713  1.497165 -3.335084  0.000859\n",
       "2023-05-29  10.765862  12.314217  1.548355 -3.555484   0.00038\n",
       "2023-05-30  11.027027  12.411076  1.384049 -3.266765  0.001094\n",
       "2023-05-31  11.281241   12.69074  1.409499 -3.368989  0.000759"
      ]
     },
     "execution_count": 109,
     "metadata": {},
     "output_type": "execute_result"
    }
   ],
   "source": [
    "res"
   ]
  },
  {
   "cell_type": "code",
   "execution_count": 111,
   "id": "e3a4f1bd",
   "metadata": {},
   "outputs": [
    {
     "data": {
      "text/html": [
       "<div>\n",
       "<style scoped>\n",
       "    .dataframe tbody tr th:only-of-type {\n",
       "        vertical-align: middle;\n",
       "    }\n",
       "\n",
       "    .dataframe tbody tr th {\n",
       "        vertical-align: top;\n",
       "    }\n",
       "\n",
       "    .dataframe thead th {\n",
       "        text-align: right;\n",
       "    }\n",
       "</style>\n",
       "<table border=\"1\" class=\"dataframe\">\n",
       "  <thead>\n",
       "    <tr style=\"text-align: right;\">\n",
       "      <th></th>\n",
       "      <th>metric_a</th>\n",
       "      <th>metric_b</th>\n",
       "      <th>effect</th>\n",
       "      <th>t</th>\n",
       "      <th>p_value</th>\n",
       "    </tr>\n",
       "  </thead>\n",
       "  <tbody>\n",
       "    <tr>\n",
       "      <th>2023-05-27</th>\n",
       "      <td>10.621577</td>\n",
       "      <td>11.868666</td>\n",
       "      <td>1.247089</td>\n",
       "      <td>-2.651441</td>\n",
       "      <td>0.008042</td>\n",
       "    </tr>\n",
       "    <tr>\n",
       "      <th>2023-05-28</th>\n",
       "      <td>10.599548</td>\n",
       "      <td>12.096713</td>\n",
       "      <td>1.497165</td>\n",
       "      <td>-3.335084</td>\n",
       "      <td>0.000859</td>\n",
       "    </tr>\n",
       "    <tr>\n",
       "      <th>2023-05-29</th>\n",
       "      <td>10.765862</td>\n",
       "      <td>12.314217</td>\n",
       "      <td>1.548355</td>\n",
       "      <td>-3.555484</td>\n",
       "      <td>0.00038</td>\n",
       "    </tr>\n",
       "    <tr>\n",
       "      <th>2023-05-30</th>\n",
       "      <td>11.027027</td>\n",
       "      <td>12.411076</td>\n",
       "      <td>1.384049</td>\n",
       "      <td>-3.266765</td>\n",
       "      <td>0.001094</td>\n",
       "    </tr>\n",
       "    <tr>\n",
       "      <th>2023-05-31</th>\n",
       "      <td>11.281241</td>\n",
       "      <td>12.69074</td>\n",
       "      <td>1.409499</td>\n",
       "      <td>-3.368989</td>\n",
       "      <td>0.000759</td>\n",
       "    </tr>\n",
       "  </tbody>\n",
       "</table>\n",
       "</div>"
      ],
      "text/plain": [
       "             metric_a   metric_b    effect         t   p_value\n",
       "2023-05-27  10.621577  11.868666  1.247089 -2.651441  0.008042\n",
       "2023-05-28  10.599548  12.096713  1.497165 -3.335084  0.000859\n",
       "2023-05-29  10.765862  12.314217  1.548355 -3.555484   0.00038\n",
       "2023-05-30  11.027027  12.411076  1.384049 -3.266765  0.001094\n",
       "2023-05-31  11.281241   12.69074  1.409499 -3.368989  0.000759"
      ]
     },
     "execution_count": 111,
     "metadata": {},
     "output_type": "execute_result"
    }
   ],
   "source": [
    "res.tail()"
   ]
  },
  {
   "attachments": {},
   "cell_type": "markdown",
   "id": "1ce72d40",
   "metadata": {},
   "source": [
    "# FINAL RES"
   ]
  },
  {
   "cell_type": "code",
   "execution_count": 112,
   "id": "0f23ae9f",
   "metadata": {},
   "outputs": [
    {
     "name": "stdout",
     "output_type": "stream",
     "text": [
      "The leading group is: B\n"
     ]
    }
   ],
   "source": [
    "print(f\"The leading group is: {'B' if results.tail(1)['p_value'].values[0] <= ALPHA else 'A'}\")"
   ]
  }
 ],
 "metadata": {
  "kernelspec": {
   "display_name": "Python 3 (ipykernel)",
   "language": "python",
   "name": "python3"
  },
  "language_info": {
   "codemirror_mode": {
    "name": "ipython",
    "version": 3
   },
   "file_extension": ".py",
   "mimetype": "text/x-python",
   "name": "python",
   "nbconvert_exporter": "python",
   "pygments_lexer": "ipython3",
   "version": "3.9.12"
  }
 },
 "nbformat": 4,
 "nbformat_minor": 5
}
